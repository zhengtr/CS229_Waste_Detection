{
 "metadata": {
  "language_info": {
   "codemirror_mode": {
    "name": "ipython",
    "version": 3
   },
   "file_extension": ".py",
   "mimetype": "text/x-python",
   "name": "python",
   "nbconvert_exporter": "python",
   "pygments_lexer": "ipython3",
   "version": "3.8.5-final"
  },
  "orig_nbformat": 2,
  "kernelspec": {
   "name": "Python 3.8.5 64-bit ('3.8.5')",
   "display_name": "Python 3.8.5 64-bit ('3.8.5')",
   "metadata": {
    "interpreter": {
     "hash": "df9ce6e4479b8aabebb00bbf68d8b4a785b7649e2303f2d9a8170d902297af5b"
    }
   }
  }
 },
 "nbformat": 4,
 "nbformat_minor": 2,
 "cells": [
  {
   "cell_type": "code",
   "execution_count": 1,
   "metadata": {},
   "outputs": [],
   "source": [
    "%matplotlib inline\n",
    "\n",
    "import json\n",
    "import numpy as np\n",
    "import matplotlib.pyplot as plt\n",
    "import pprint\n",
    "import os\n",
    "\n",
    "pp = pprint.PrettyPrinter(indent=4)"
   ]
  },
  {
   "cell_type": "code",
   "execution_count": 2,
   "metadata": {
    "tags": []
   },
   "outputs": [],
   "source": [
    "data_dir = \"data\"\n",
    "annotation_file = \"annotations_0_train.json\"\n",
    "categories = []\n",
    "annotations = []\n",
    "images = []\n",
    "with open(data_dir + \"/\" + annotation_file, 'r') as f:\n",
    "    curr_dataset = json.loads(f.read())\n",
    "    categories = curr_dataset['categories']\n",
    "    annotations.extend(curr_dataset[\"annotations\"])\n",
    "    images.extend(curr_dataset[\"images\"])"
   ]
  },
  {
   "cell_type": "code",
   "execution_count": 3,
   "metadata": {
    "tags": []
   },
   "outputs": [],
   "source": [
    "from PIL import Image\n",
    "\n",
    "index = 0\n",
    "image_data = []\n",
    "image_id_map = {}\n",
    "for image in images[0:100]:\n",
    "    image_id_map[image[\"id\"]] = index\n",
    "    pil_image = Image.open(data_dir + \"/\" + image[\"file_name\"])\n",
    "    image_data.append(np.asarray(pil_image))\n",
    "    pil_image.close()\n",
    "    index += 1"
   ]
  },
  {
   "cell_type": "code",
   "execution_count": 13,
   "metadata": {},
   "outputs": [
    {
     "output_type": "execute_result",
     "data": {
      "text/plain": [
       "{'id': 585,\n",
       " 'width': 3024,\n",
       " 'height': 4032,\n",
       " 'file_name': 'batch_14/000084.jpg',\n",
       " 'license': 'ODBL (c) OpenLitterMap & Contributors',\n",
       " 'flickr_url': 'https://olm-s3.s3.eu-west-1.amazonaws.com/764/ucCflYvXr4WhkNapgRRKDNMgOEI70Sh4GblmqSwH.jpeg',\n",
       " 'flickr_640_url': None,\n",
       " 'coco_url': None,\n",
       " 'date_captured': None}"
      ]
     },
     "metadata": {},
     "execution_count": 13
    }
   ],
   "source": []
  },
  {
   "cell_type": "code",
   "execution_count": null,
   "metadata": {},
   "outputs": [],
   "source": []
  }
 ]
}ickr_640_url"